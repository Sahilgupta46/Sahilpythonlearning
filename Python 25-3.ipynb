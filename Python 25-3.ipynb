{
 "cells": [
  {
   "cell_type": "code",
   "execution_count": 2,
   "id": "ee1f5614-2912-4bbc-b3b4-964958ab3022",
   "metadata": {},
   "outputs": [
    {
     "name": "stdout",
     "output_type": "stream",
     "text": [
      "2025-03-25 09:47:45.490978\n"
     ]
    }
   ],
   "source": [
    "# Date and time in Python\n",
    "\n",
    "import datetime\n",
    "\n",
    "# Get the current date and time \n",
    "now = datetime.datetime.now()\n",
    "\n",
    "print(now)"
   ]
  },
  {
   "cell_type": "code",
   "execution_count": 6,
   "id": "c3ec5133-411a-4a72-ae03-10432aefebfb",
   "metadata": {},
   "outputs": [
    {
     "name": "stdout",
     "output_type": "stream",
     "text": [
      "3\n",
      "25\n",
      "2025\n",
      "9\n",
      "47\n",
      "45\n"
     ]
    }
   ],
   "source": [
    "# get only month \n",
    "print(now.month)\n",
    "\n",
    "#get only day\n",
    "print(now.day)\n",
    "\n",
    "#get only year \n",
    "print(now.year)\n",
    "\n",
    "#get onlly hour\n",
    "print(now.hour)\n",
    "\n",
    "#get only minute\n",
    "print(now.minute)\n",
    "\n",
    "#get only second\n",
    "print(now.second)\n"
   ]
  },
  {
   "cell_type": "code",
   "execution_count": 8,
   "id": "0d4f5c87-cec1-4ec5-98fa-ef98e730e74d",
   "metadata": {},
   "outputs": [
    {
     "name": "stdout",
     "output_type": "stream",
     "text": [
      "2025-03-25\n",
      "09:47:45\n",
      "March\n"
     ]
    }
   ],
   "source": [
    "# get complete date \n",
    "print(now.strftime(\"%Y-%m-%d\"))\n",
    "\n",
    "#get complete time\n",
    "print(now.strftime(\"%H:%M:%S\"))\n",
    "\n",
    "#get month name in character\n",
    "print(now.strftime(\"%B\"))\n",
    "\n"
   ]
  },
  {
   "cell_type": "code",
   "execution_count": 12,
   "id": "5747e32c-7126-4555-8c76-3dc09476e747",
   "metadata": {},
   "outputs": [
    {
     "ename": "AttributeError",
     "evalue": "module 'calendar' has no attribute 'montH'",
     "output_type": "error",
     "traceback": [
      "\u001b[1;31m---------------------------------------------------------------------------\u001b[0m",
      "\u001b[1;31mAttributeError\u001b[0m                            Traceback (most recent call last)",
      "Cell \u001b[1;32mIn[12], line 3\u001b[0m\n\u001b[0;32m      1\u001b[0m \u001b[38;5;66;03m# show calendar\u001b[39;00m\n\u001b[0;32m      2\u001b[0m \u001b[38;5;28;01mimport\u001b[39;00m \u001b[38;5;21;01mcalendar\u001b[39;00m\n\u001b[1;32m----> 3\u001b[0m \u001b[38;5;28mprint\u001b[39m(calendar\u001b[38;5;241m.\u001b[39mmontH(\u001b[38;5;241m2025\u001b[39m, \u001b[38;5;241m3\u001b[39m))\n",
      "File \u001b[1;32mC:\\ProgramData\\anaconda3\\Lib\\calendar.py:54\u001b[0m, in \u001b[0;36m__getattr__\u001b[1;34m(name)\u001b[0m\n\u001b[0;32m     51\u001b[0m     \u001b[38;5;28;01melse\u001b[39;00m:\n\u001b[0;32m     52\u001b[0m         \u001b[38;5;28;01mreturn\u001b[39;00m \u001b[38;5;241m2\u001b[39m\n\u001b[1;32m---> 54\u001b[0m \u001b[38;5;28;01mraise\u001b[39;00m \u001b[38;5;167;01mAttributeError\u001b[39;00m(\u001b[38;5;124mf\u001b[39m\u001b[38;5;124m\"\u001b[39m\u001b[38;5;124mmodule \u001b[39m\u001b[38;5;124m'\u001b[39m\u001b[38;5;132;01m{\u001b[39;00m\u001b[38;5;18m__name__\u001b[39m\u001b[38;5;132;01m}\u001b[39;00m\u001b[38;5;124m'\u001b[39m\u001b[38;5;124m has no attribute \u001b[39m\u001b[38;5;124m'\u001b[39m\u001b[38;5;132;01m{\u001b[39;00mname\u001b[38;5;132;01m}\u001b[39;00m\u001b[38;5;124m'\u001b[39m\u001b[38;5;124m\"\u001b[39m)\n",
      "\u001b[1;31mAttributeError\u001b[0m: module 'calendar' has no attribute 'montH'"
     ]
    }
   ],
   "source": [
    "# show calendar\n",
    "import calendar\n",
    "print(calendar.montH(2025, 3))  # prints the calendar for February 2024"
   ]
  },
  {
   "cell_type": "code",
   "execution_count": 14,
   "id": "6c6b277b-1668-44d7-9d20-fa9eabfc3d3e",
   "metadata": {},
   "outputs": [
    {
     "name": "stdout",
     "output_type": "stream",
     "text": [
      "                                  2003\n",
      "\n",
      "      January                   February                   March\n",
      "Mo Tu We Th Fr Sa Su      Mo Tu We Th Fr Sa Su      Mo Tu We Th Fr Sa Su\n",
      "       1  2  3  4  5                      1  2                      1  2\n",
      " 6  7  8  9 10 11 12       3  4  5  6  7  8  9       3  4  5  6  7  8  9\n",
      "13 14 15 16 17 18 19      10 11 12 13 14 15 16      10 11 12 13 14 15 16\n",
      "20 21 22 23 24 25 26      17 18 19 20 21 22 23      17 18 19 20 21 22 23\n",
      "27 28 29 30 31            24 25 26 27 28            24 25 26 27 28 29 30\n",
      "                                                    31\n",
      "\n",
      "       April                      May                       June\n",
      "Mo Tu We Th Fr Sa Su      Mo Tu We Th Fr Sa Su      Mo Tu We Th Fr Sa Su\n",
      "    1  2  3  4  5  6                1  2  3  4                         1\n",
      " 7  8  9 10 11 12 13       5  6  7  8  9 10 11       2  3  4  5  6  7  8\n",
      "14 15 16 17 18 19 20      12 13 14 15 16 17 18       9 10 11 12 13 14 15\n",
      "21 22 23 24 25 26 27      19 20 21 22 23 24 25      16 17 18 19 20 21 22\n",
      "28 29 30                  26 27 28 29 30 31         23 24 25 26 27 28 29\n",
      "                                                    30\n",
      "\n",
      "        July                     August                  September\n",
      "Mo Tu We Th Fr Sa Su      Mo Tu We Th Fr Sa Su      Mo Tu We Th Fr Sa Su\n",
      "    1  2  3  4  5  6                   1  2  3       1  2  3  4  5  6  7\n",
      " 7  8  9 10 11 12 13       4  5  6  7  8  9 10       8  9 10 11 12 13 14\n",
      "14 15 16 17 18 19 20      11 12 13 14 15 16 17      15 16 17 18 19 20 21\n",
      "21 22 23 24 25 26 27      18 19 20 21 22 23 24      22 23 24 25 26 27 28\n",
      "28 29 30 31               25 26 27 28 29 30 31      29 30\n",
      "\n",
      "      October                   November                  December\n",
      "Mo Tu We Th Fr Sa Su      Mo Tu We Th Fr Sa Su      Mo Tu We Th Fr Sa Su\n",
      "       1  2  3  4  5                      1  2       1  2  3  4  5  6  7\n",
      " 6  7  8  9 10 11 12       3  4  5  6  7  8  9       8  9 10 11 12 13 14\n",
      "13 14 15 16 17 18 19      10 11 12 13 14 15 16      15 16 17 18 19 20 21\n",
      "20 21 22 23 24 25 26      17 18 19 20 21 22 23      22 23 24 25 26 27 28\n",
      "27 28 29 30 31            24 25 26 27 28 29 30      29 30 31\n",
      "\n"
     ]
    }
   ],
   "source": [
    "# get full year calendar \n",
    "Year = 2003\n",
    "print(calendar.calendar(Year))  #prints the calendar for 2022"
   ]
  },
  {
   "cell_type": "code",
   "execution_count": 16,
   "id": "481c331f-20eb-422b-b446-62857052460e",
   "metadata": {},
   "outputs": [
    {
     "ename": "ModuleNotFoundError",
     "evalue": "No module named 'emoji'",
     "output_type": "error",
     "traceback": [
      "\u001b[1;31m---------------------------------------------------------------------------\u001b[0m",
      "\u001b[1;31mModuleNotFoundError\u001b[0m                       Traceback (most recent call last)",
      "Cell \u001b[1;32mIn[16], line 1\u001b[0m\n\u001b[1;32m----> 1\u001b[0m \u001b[38;5;28;01mimport\u001b[39;00m \u001b[38;5;21;01memoji\u001b[39;00m \n\u001b[0;32m      2\u001b[0m \u001b[38;5;28mprint\u001b[39m(emoji\u001b[38;5;241m.\u001b[39memojize(\u001b[38;5;124m\"\u001b[39m\u001b[38;5;124m:thumbs_up:\u001b[39m\u001b[38;5;124m\"\u001b[39m))\n",
      "\u001b[1;31mModuleNotFoundError\u001b[0m: No module named 'emoji'"
     ]
    }
   ],
   "source": [
    "import emoji \n",
    "print(emoji.emojize(\":thumbs_up:\"))"
   ]
  },
  {
   "cell_type": "code",
   "execution_count": 30,
   "id": "c9704116-d70c-4501-a4c3-3344b06f81d0",
   "metadata": {},
   "outputs": [
    {
     "name": "stdout",
     "output_type": "stream",
     "text": [
      "[]\n",
      "<class 'list'>\n"
     ]
    }
   ],
   "source": [
    "# create a empty list\n",
    "my_list = []\n",
    "print(my_list)  #output:[]\n",
    "#check the type of my_list\n",
    "print(type(my_list))  # Output: <class 'list'>\n"
   ]
  },
  {
   "cell_type": "code",
   "execution_count": 32,
   "id": "f0832754-897e-4e39-8992-d34d6e4415c8",
   "metadata": {},
   "outputs": [
    {
     "name": "stdout",
     "output_type": "stream",
     "text": [
      "[1, 2, 3, 4, 5]\n"
     ]
    }
   ],
   "source": [
    "#init list with values \n",
    "my_list = [1,2,3,4,5]\n",
    "print(my_list) #output: [1,2,3,4,5]"
   ]
  },
  {
   "cell_type": "code",
   "execution_count": 34,
   "id": "29e5b1d2-8485-473f-a1ee-673276ce34db",
   "metadata": {},
   "outputs": [
    {
     "name": "stdout",
     "output_type": "stream",
     "text": [
      "[1, 2, 3, 4, 5, 'Sahil', 3.46]\n"
     ]
    }
   ],
   "source": [
    "# mixed data types\n",
    "my_list = [1,2,3,4,5, \"Sahil\",3.46]\n",
    "print(my_list)"
   ]
  },
  {
   "cell_type": "code",
   "execution_count": 38,
   "id": "0a71b031-9511-493f-9266-345d16d50ac2",
   "metadata": {},
   "outputs": [
    {
     "name": "stdout",
     "output_type": "stream",
     "text": [
      "apple\n",
      "apple\n",
      "banana\n"
     ]
    }
   ],
   "source": [
    "#access list element \n",
    "#index      0         1          2         3        4        5       6\n",
    "fruits = [\"apple\", \"banana\", \"cherry\", \"orange\", \"kiwi\", \"melon\", \"mango\"]\n",
    "#-negtive    -7        -6        -5         -4       -3      -2       -1\n",
    "\n",
    "#print the element at index 0\n",
    "print(fruits[0])   #output: apple\n",
    "print(fruits[-7])  #outpout: apple\n",
    "\n",
    "print(fruits[1]) # output: banana"
   ]
  },
  {
   "cell_type": "code",
   "execution_count": 40,
   "id": "b5b4867d-2431-4030-9357-233b2df3e5b2",
   "metadata": {},
   "outputs": [
    {
     "name": "stdout",
     "output_type": "stream",
     "text": [
      "['banana', 'cherry', 'orange']\n",
      "['banana', 'cherry', 'orange']\n",
      "['apple', 'banana', 'cherry', 'orange']\n",
      "['cherry', 'orange', 'kiwi', 'melon', 'mango']\n",
      "['apple', 'banana', 'cherry', 'orange', 'kiwi', 'melon', 'mango']\n",
      "['apple', 'banana', 'cherry', 'orange', 'kiwi', 'melon', 'mango']\n"
     ]
    }
   ],
   "source": [
    "#slice list\n",
    "#get the elements from index 1 to 4 (not included)\n",
    "print(fruits[1:4])  #output: [banana, cherry, orange]\n",
    "print(fruits[-6:-3]) #output: [banana, cherry, orange']\n",
    "\n",
    "print(fruits[:4])  #output: [ apple, banana, cherry, orange]\n",
    "\n",
    "print(fruits[2:])\n",
    "\n",
    "print(fruits[:])\n",
    "print(fruits)\n"
   ]
  },
  {
   "cell_type": "code",
   "execution_count": 42,
   "id": "abe37ca1-fb22-4e8d-9dae-46517026b875",
   "metadata": {},
   "outputs": [
    {
     "name": "stdout",
     "output_type": "stream",
     "text": [
      "['apple', 'banana', 'cherry', 'orange', 'kiwi', 'melon', 'mango']\n",
      "['avocado', 'banana', 'cherry', 'orange', 'kiwi', 'melon', 'mango']\n"
     ]
    }
   ],
   "source": [
    "print(fruits)\n",
    "#change the value of an element\n",
    "fruits[0] = \"avocado\"\n",
    "print(fruits)"
   ]
  },
  {
   "cell_type": "code",
   "execution_count": 44,
   "id": "4004a08d-f96e-4442-8657-baec959b4264",
   "metadata": {},
   "outputs": [
    {
     "name": "stdout",
     "output_type": "stream",
     "text": [
      "['avocado', 'banana', 'blueberry', 'cherry', 'orange', 'kiwi', 'melon', 'mango']\n"
     ]
    }
   ],
   "source": [
    "# insert element at specific index \n",
    "fruits.insert(2, \"blueberry\")\n",
    "print(fruits)"
   ]
  },
  {
   "cell_type": "code",
   "execution_count": 46,
   "id": "33b3f5c2-034d-4946-8f0a-89aa2dc81968",
   "metadata": {},
   "outputs": [
    {
     "name": "stdout",
     "output_type": "stream",
     "text": [
      "['avocado', 'banana', 'blueberry', 'cherry', 'orange', 'kiwi', 'melon', 'mango', 'strawberry']\n"
     ]
    }
   ],
   "source": [
    "#append element at the end of the list\n",
    "fruits.append(\"strawberry\")\n",
    "print(fruits)"
   ]
  },
  {
   "cell_type": "code",
   "execution_count": 48,
   "id": "53682087-672c-4841-bc09-b1434e4cc274",
   "metadata": {},
   "outputs": [
    {
     "name": "stdout",
     "output_type": "stream",
     "text": [
      "['avocado', 'banana', 'blueberry', 'cherry', 'orange', 'kiwi', 'melon', 'mango', 'strawberry', 'grapes', 'watermelon']\n"
     ]
    }
   ],
   "source": [
    "# extend list \n",
    "new_fruits = [\"grapes\", \"watermelon\"]\n",
    "fruits.extend(new_fruits)\n",
    "print(fruits)"
   ]
  },
  {
   "cell_type": "code",
   "execution_count": 50,
   "id": "51ea6077-297d-4356-8a9c-12101de44279",
   "metadata": {},
   "outputs": [
    {
     "name": "stdout",
     "output_type": "stream",
     "text": [
      "['avocado', 'blueberry', 'cherry', 'orange', 'kiwi', 'melon', 'mango', 'strawberry', 'grapes', 'watermelon']\n"
     ]
    }
   ],
   "source": [
    "# remove element\n",
    "fruits.remove(\"banana\")\n",
    "print(fruits)"
   ]
  },
  {
   "cell_type": "code",
   "execution_count": 52,
   "id": "bd0a6ee5-5280-43e2-aa24-5f7921352cf9",
   "metadata": {},
   "outputs": [
    {
     "data": {
      "text/plain": [
       "'cherry'"
      ]
     },
     "execution_count": 52,
     "metadata": {},
     "output_type": "execute_result"
    }
   ],
   "source": [
    "# remove element at specific index\n",
    "fruits.pop(2)"
   ]
  },
  {
   "cell_type": "code",
   "execution_count": 54,
   "id": "91decb9b-47bd-475d-802c-2800280f2ad3",
   "metadata": {},
   "outputs": [
    {
     "name": "stdout",
     "output_type": "stream",
     "text": [
      "['avocado', 'blueberry', 'orange', 'kiwi', 'melon', 'mango', 'strawberry', 'grapes', 'watermelon']\n"
     ]
    }
   ],
   "source": [
    "print(fruits)"
   ]
  },
  {
   "cell_type": "code",
   "execution_count": 56,
   "id": "c1101a6e-5f36-41a4-a362-84f29ed05e89",
   "metadata": {},
   "outputs": [
    {
     "name": "stdout",
     "output_type": "stream",
     "text": [
      "['avocado', 'blueberry', 'orange', 'kiwi', 'melon', 'mango', 'strawberry', 'grapes']\n"
     ]
    }
   ],
   "source": [
    "# pop element from the end of the list\n",
    "fruits.pop()\n",
    "print(fruits)"
   ]
  },
  {
   "cell_type": "code",
   "execution_count": 58,
   "id": "8bfdeaf8-16db-4775-9919-95c6d9000c38",
   "metadata": {},
   "outputs": [
    {
     "name": "stdout",
     "output_type": "stream",
     "text": [
      "avocado\n",
      "blueberry\n",
      "orange\n",
      "kiwi\n",
      "melon\n",
      "mango\n",
      "strawberry\n",
      "grapes\n"
     ]
    }
   ],
   "source": [
    "# intreting list\n",
    "for i in fruits:\n",
    "    print(i)"
   ]
  },
  {
   "cell_type": "code",
   "execution_count": 62,
   "id": "9f37591a-6214-4552-876b-1694da4e480a",
   "metadata": {},
   "outputs": [
    {
     "name": "stdout",
     "output_type": "stream",
     "text": [
      "False\n",
      "True\n"
     ]
    }
   ],
   "source": [
    "# check if an element is in the list \n",
    "\n",
    "print(\"apple\" in fruits)\n",
    "\n",
    "print(\"orange\" in fruits)"
   ]
  }
 ],
 "metadata": {
  "kernelspec": {
   "display_name": "Python 3 (ipykernel)",
   "language": "python",
   "name": "python3"
  },
  "language_info": {
   "codemirror_mode": {
    "name": "ipython",
    "version": 3
   },
   "file_extension": ".py",
   "mimetype": "text/x-python",
   "name": "python",
   "nbconvert_exporter": "python",
   "pygments_lexer": "ipython3",
   "version": "3.12.7"
  }
 },
 "nbformat": 4,
 "nbformat_minor": 5
}
