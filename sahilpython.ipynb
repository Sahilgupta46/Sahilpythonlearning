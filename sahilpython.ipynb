{
 "cells": [
  {
   "cell_type": "code",
   "execution_count": 2,
   "id": "fd2b7522-fea1-4393-a00a-7277cadc518c",
   "metadata": {},
   "outputs": [
    {
     "name": "stdout",
     "output_type": "stream",
     "text": [
      "welcome to codeswithsahil.com\n"
     ]
    }
   ],
   "source": [
    "#print()\n",
    "print (\"welcome to codeswithsahil.com\")"
   ]
  },
  {
   "cell_type": "code",
   "execution_count": 4,
   "id": "d655af92-1c8a-4733-b1eb-6d620f13d9e6",
   "metadata": {},
   "outputs": [
    {
     "name": "stdout",
     "output_type": "stream",
     "text": [
      "welcome to blog cwpc.in\n"
     ]
    }
   ],
   "source": [
    "print('welcome to blog cwpc.in')"
   ]
  },
  {
   "cell_type": "code",
   "execution_count": 6,
   "id": "0e0c7784-ae11-4e24-b099-831505e06022",
   "metadata": {},
   "outputs": [
    {
     "name": "stdout",
     "output_type": "stream",
     "text": [
      "'cwpc.in'\n",
      "\"codeswithsahil.com\"\n"
     ]
    }
   ],
   "source": [
    "print(\"'cwpc.in'\")\n",
    "print('\"codeswithsahil.com\"')"
   ]
  },
  {
   "cell_type": "code",
   "execution_count": 8,
   "id": "53640768-0a7e-4f52-82b3-84660eff92b5",
   "metadata": {},
   "outputs": [
    {
     "name": "stdout",
     "output_type": "stream",
     "text": [
      "this is number  46\n"
     ]
    }
   ],
   "source": [
    "# variable\n",
    "number = 46\n",
    "print('this is number ',number)"
   ]
  },
  {
   "cell_type": "code",
   "execution_count": 10,
   "id": "681b6c82-f9e4-4187-95b2-fbcebdfa4c89",
   "metadata": {},
   "outputs": [
    {
     "name": "stdout",
     "output_type": "stream",
     "text": [
      "My name is  Sahil\n",
      "My age is  22\n",
      "height is  5.3\n"
     ]
    }
   ],
   "source": [
    "name = \"Sahil\"\n",
    "age = 22\n",
    "height = 5.3\n",
    "\n",
    "print(\"My name is \",name)\n",
    "print(\"My age is \", age)\n",
    "print(\"height is \", height)\n"
   ]
  },
  {
   "cell_type": "code",
   "execution_count": 12,
   "id": "12e4a6da-f7c5-4d02-a596-d89a339d0d7b",
   "metadata": {},
   "outputs": [
    {
     "name": "stdin",
     "output_type": "stream",
     "text": [
      "Enter Your Name Veer\n",
      "Enter Your Age 22\n",
      "Enter Your Height 5.8\n"
     ]
    },
    {
     "name": "stdout",
     "output_type": "stream",
     "text": [
      "My name is  Veer\n",
      "My age is  22\n",
      "height is  5.8\n"
     ]
    }
   ],
   "source": [
    "name = input('Enter Your Name')\n",
    "age = input('Enter Your Age')\n",
    "height = input('Enter Your Height')\n",
    "\n",
    "print(\"My name is \",name)\n",
    "print(\"My age is \", age)\n",
    "print(\"height is \", height)\n"
   ]
  },
  {
   "cell_type": "code",
   "execution_count": 14,
   "id": "ac28468e-0e36-41e9-980c-bf533dd56303",
   "metadata": {},
   "outputs": [
    {
     "name": "stdin",
     "output_type": "stream",
     "text": [
      "Enter Your Name Joy\n",
      "Enter Your Age 22\n",
      "Enter Your Height 5.6\n"
     ]
    },
    {
     "name": "stdout",
     "output_type": "stream",
     "text": [
      "My name is  Joy\n",
      "My age is  22\n",
      "height is  5.6\n"
     ]
    }
   ],
   "source": [
    "#int()\n",
    "#float()\n",
    "#str()\n",
    "\n",
    "name = str(input('Enter Your Name'))\n",
    "age = int(input('Enter Your Age'))\n",
    "height = float(input('Enter Your Height'))\n",
    "\n",
    "print(\"My name is \",name)\n",
    "print(\"My age is \", age)\n",
    "print(\"height is \", height)\n"
   ]
  }
 ],
 "metadata": {
  "kernelspec": {
   "display_name": "Python 3 (ipykernel)",
   "language": "python",
   "name": "python3"
  },
  "language_info": {
   "codemirror_mode": {
    "name": "ipython",
    "version": 3
   },
   "file_extension": ".py",
   "mimetype": "text/x-python",
   "name": "python",
   "nbconvert_exporter": "python",
   "pygments_lexer": "ipython3",
   "version": "3.12.7"
  }
 },
 "nbformat": 4,
 "nbformat_minor": 5
}
