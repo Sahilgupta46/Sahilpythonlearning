{
  "nbformat": 4,
  "nbformat_minor": 0,
  "metadata": {
    "colab": {
      "provenance": []
    },
    "kernelspec": {
      "name": "python3",
      "display_name": "Python 3"
    },
    "language_info": {
      "name": "python"
    }
  },
  "cells": [
    {
      "cell_type": "code",
      "execution_count": null,
      "metadata": {
        "id": "0m9RC1ECSpA8"
      },
      "outputs": [],
      "source": [
        "#numpy in python\n"
      ]
    },
    {
      "cell_type": "code",
      "source": [
        "# install numpy in python\n",
        "%pip install numpy"
      ],
      "metadata": {
        "colab": {
          "base_uri": "https://localhost:8080/"
        },
        "id": "vQ7bRQtCTLNr",
        "outputId": "e9f91131-66af-4608-be5d-45eaf6e19d2e"
      },
      "execution_count": null,
      "outputs": [
        {
          "output_type": "stream",
          "name": "stdout",
          "text": [
            "Requirement already satisfied: numpy in /usr/local/lib/python3.11/dist-packages (2.0.2)\n"
          ]
        }
      ]
    },
    {
      "cell_type": "code",
      "source": [
        "# inport numpy in python\n",
        "import numpy as np\n",
        "\n",
        "# create a numpy array in python\n",
        "a = np.array([11,12,13,14,15])\n",
        "print(a)"
      ],
      "metadata": {
        "colab": {
          "base_uri": "https://localhost:8080/"
        },
        "id": "O1IU2F7dTkpT",
        "outputId": "fdb1a222-b2ad-4c88-8274-fe78f387f710"
      },
      "execution_count": null,
      "outputs": [
        {
          "output_type": "stream",
          "name": "stdout",
          "text": [
            "[11 12 13 14 15]\n"
          ]
        }
      ]
    },
    {
      "cell_type": "code",
      "source": [
        "# access elements in numpy array in python\n",
        "print(a[0])  # first element\n",
        "print(a[1])  # second element"
      ],
      "metadata": {
        "colab": {
          "base_uri": "https://localhost:8080/"
        },
        "id": "ZZKvO9g8UWwi",
        "outputId": "dcb0ba3a-a2ef-46c5-8b84-bcf3d9690045"
      },
      "execution_count": null,
      "outputs": [
        {
          "output_type": "stream",
          "name": "stdout",
          "text": [
            "11\n",
            "12\n"
          ]
        }
      ]
    },
    {
      "cell_type": "code",
      "source": [
        "# modify elements in numpys aaray in python\n",
        "a[0] = 100\n",
        "print(a)  # first element is modified to 100"
      ],
      "metadata": {
        "colab": {
          "base_uri": "https://localhost:8080/"
        },
        "id": "OAS7qMV7UuFB",
        "outputId": "c52ef44f-7bed-4a87-b54d-d785e7e1a585"
      },
      "execution_count": null,
      "outputs": [
        {
          "output_type": "stream",
          "name": "stdout",
          "text": [
            "[100  12  13  14  15]\n"
          ]
        }
      ]
    },
    {
      "cell_type": "code",
      "source": [
        "# cheking version of numpy in python\n",
        "print(np.__version__)  # print version of numpy"
      ],
      "metadata": {
        "colab": {
          "base_uri": "https://localhost:8080/"
        },
        "id": "EXhhT5C6VLS4",
        "outputId": "fb55e186-7e0c-4c5f-e4d7-05c3c117a669"
      },
      "execution_count": null,
      "outputs": [
        {
          "output_type": "stream",
          "name": "stdout",
          "text": [
            "2.0.2\n"
          ]
        }
      ]
    },
    {
      "cell_type": "code",
      "source": [
        "# create a numpy array with zeros in python\n",
        "a = np.zeros((3,4)) # 3 rows and colums\n",
        "print(a) # print numpy array with zeros"
      ],
      "metadata": {
        "colab": {
          "base_uri": "https://localhost:8080/"
        },
        "id": "gm9Igm1oVcsL",
        "outputId": "301b22af-17fb-4cc6-ef98-0b62878931f6"
      },
      "execution_count": null,
      "outputs": [
        {
          "output_type": "stream",
          "name": "stdout",
          "text": [
            "[[0. 0. 0. 0.]\n",
            " [0. 0. 0. 0.]\n",
            " [0. 0. 0. 0.]]\n"
          ]
        }
      ]
    },
    {
      "cell_type": "code",
      "source": [
        "# create 2nd numpy array in python\n",
        "a = np.array ([[1,2,3,], [4,5,6], [7,8,9]]) # 3 rows and 3 columns\n",
        "print (a)"
      ],
      "metadata": {
        "colab": {
          "base_uri": "https://localhost:8080/"
        },
        "id": "o1HelBPfWASw",
        "outputId": "ab6b53e6-20e0-488b-cb99-3c1fc4ebe932"
      },
      "execution_count": null,
      "outputs": [
        {
          "output_type": "stream",
          "name": "stdout",
          "text": [
            "[[1 2 3]\n",
            " [4 5 6]\n",
            " [7 8 9]]\n"
          ]
        }
      ]
    },
    {
      "cell_type": "code",
      "source": [
        "# create a 3d numpy array in python\n",
        "a = np.array ([[[1,2], [3,4]], [[5,6],[7,8]]]) # 2 layers, 2 rows and 2 columns\n",
        "\n",
        "print (a) # print 3d numpy array\n",
        "print(a.shape)\n"
      ],
      "metadata": {
        "colab": {
          "base_uri": "https://localhost:8080/"
        },
        "id": "s5CPih4rXBuN",
        "outputId": "92749cba-2ae2-49ec-8118-b75b7e8a6eab"
      },
      "execution_count": null,
      "outputs": [
        {
          "output_type": "stream",
          "name": "stdout",
          "text": [
            "[[[1 2]\n",
            "  [3 4]]\n",
            "\n",
            " [[5 6]\n",
            "  [7 8]]]\n",
            "(2, 2, 2)\n"
          ]
        }
      ]
    },
    {
      "cell_type": "code",
      "source": [
        "# check the demensions of numpy76 array in python\n",
        "print (a.ndim) # print number of dimensions of numpy array\n"
      ],
      "metadata": {
        "colab": {
          "base_uri": "https://localhost:8080/"
        },
        "id": "FW-nlCtnYrhi",
        "outputId": "1f369f72-88fd-43d1-c967-07402913e833"
      },
      "execution_count": null,
      "outputs": [
        {
          "output_type": "stream",
          "name": "stdout",
          "text": [
            "3\n"
          ]
        }
      ]
    },
    {
      "cell_type": "code",
      "source": [
        "# Higher-Dimensional Arrays\n",
        "# create a 4d numpy array in python\n",
        "a = np.array([[[[1,2],[3,4]],[[5,6],[7,8]]]])  # 1 layer, 2 rows and 2 columns\n",
        "print(a) # print 4d numpy array\n",
        "print(a.shape) # print shape of 4d numpy array\n"
      ],
      "metadata": {
        "colab": {
          "base_uri": "https://localhost:8080/"
        },
        "id": "lFkkb7hhZCOZ",
        "outputId": "7e541838-5890-4dff-fbdf-86773452d79b"
      },
      "execution_count": null,
      "outputs": [
        {
          "output_type": "stream",
          "name": "stdout",
          "text": [
            "[[[[1 2]\n",
            "   [3 4]]\n",
            "\n",
            "  [[5 6]\n",
            "   [7 8]]]]\n",
            "(1, 2, 2, 2)\n"
          ]
        }
      ]
    },
    {
      "cell_type": "code",
      "source": [
        "# Ellipsis (...) Indexing\n",
        "arr_3d = np.array([[[1,2],[3,4]],[[5,6],[7,8]]])\n",
        "print(arr_3d[...,0]) # Access the first element along the third dimension ([[1,3],[5,7]])\n"
      ],
      "metadata": {
        "colab": {
          "base_uri": "https://localhost:8080/"
        },
        "id": "llXcIpWjaGaA",
        "outputId": "1376cfc9-abf0-4ed9-99e0-d65bebd28217"
      },
      "execution_count": null,
      "outputs": [
        {
          "output_type": "stream",
          "name": "stdout",
          "text": [
            "[[1 3]\n",
            " [5 7]]\n"
          ]
        }
      ]
    }
  ]
}