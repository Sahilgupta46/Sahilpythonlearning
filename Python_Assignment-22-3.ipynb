{
 "cells": [
  {
   "cell_type": "code",
   "execution_count": null,
   "metadata": {},
   "outputs": [],
   "source": [
    "# -- input Section \n",
    "# 1. Enter Student Name : Ravi\n",
    "# 2. Enter Roll Number : RAVI009912\n",
    "# 3. Enter Class : MCA\n",
    "# 4. Enter JAVA Marks : 56\n",
    "# 5. Enter C++ Marks : 89\n",
    "# 6. Enter Python Marks : 12\n",
    "# 7. Enter Ruby Marks : 56\n",
    "# 8. Enter SQL Marks : 78\n",
    "\n",
    "# -- Output Section\n",
    "# Student Name : Ravi\n",
    "# Roll Number : RAVI009912\n",
    "# Class : MCA\n",
    "# Enter JAVA Marks : 56/100\n",
    "# C++ Marks : 89/100\n",
    "# Python Marks : 12/100\n",
    "# Ruby Marks : 56/100\n",
    "# SQL Marks : 78/100\n",
    "#    total = ?\n",
    "#    Per % = ?%"
   ]
  },
  {
   "cell_type": "code",
   "execution_count": 1,
   "metadata": {},
   "outputs": [
    {
     "name": "stdout",
     "output_type": "stream",
     "text": [
      "Name : Sahil\n",
      " Roll Number : 555\n",
      " Class : BCA\n",
      "JAVA Marks : 55 /100\n",
      "Cpp Marks : 65 /100\n",
      "Python Marks  : 95 /100\n",
      "Ruby Marks : 67 /100\n",
      "SQL Marks : 58 /100\n"
     ]
    }
   ],
   "source": [
    "name = str(input('Enter your name'))\n",
    "roll_no = int(input('Enter your roll_no'))\n",
    "Class = str(input('Enter your class'))\n",
    "Java_Marks = int(input('Enter Java marks'))\n",
    "Cpp_Marks = int(input('Enter cpp marks'))\n",
    "Python_Marks = int(input('Enter Python Marks'))\n",
    "Ruby_Marks = int(input('Enter Ruby Marks')) \n",
    "SQL_Marks = int (input(' Enter SQL Marks'))\n",
    "\n",
    "print(\"Name :\",name)\n",
    "print(\" Roll Number :\",roll_no)\n",
    "print(\" Class :\",Class)\n",
    "print(\"JAVA Marks :\",Java_Marks,\"/100\")\n",
    "print(\"Cpp Marks :\",Cpp_Marks,\"/100\")\n",
    "print(\"Python Marks  :\",Python_Marks,\"/100\")\n",
    "print(\"Ruby Marks :\",Ruby_Marks,\"/100\")\n",
    "print(\"SQL Marks :\",SQL_Marks,\"/100\")\n",
    "            \n"
   ]
  }
 ],
 "metadata": {
  "kernelspec": {
   "display_name": "Python 3",
   "language": "python",
   "name": "python3"
  },
  "language_info": {
   "codemirror_mode": {
    "name": "ipython",
    "version": 3
   },
   "file_extension": ".py",
   "mimetype": "text/x-python",
   "name": "python",
   "nbconvert_exporter": "python",
   "pygments_lexer": "ipython3",
   "version": "3.13.1"
  }
 },
 "nbformat": 4,
 "nbformat_minor": 2
}
