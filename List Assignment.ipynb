{
 "cells": [
  {
   "cell_type": "code",
   "execution_count": null,
   "id": "226bd868-dfcd-4d11-9567-a661b94f1484",
   "metadata": {},
   "outputs": [],
   "source": [
    "\n",
    "#-- User input section\n",
    "Enter Product List Size : 4\n",
    "Enter Product 1 -\n",
    "Samosa\n",
    "Enter Product 2 -\n",
    "Kachori\n",
    "Enter Product 3 -\n",
    "Fafda\n",
    "Enter Product 4 -\n",
    "Jalebi\n",
    "\n",
    "Enter Samosa Price :\n",
    "300/-\n",
    "Enter Kachori Price :\n",
    "100/-\n",
    "Enter Fafda Price :\n",
    "100/-\n",
    "Enter Jalebi Price :\n",
    "200/-\n",
    "\n",
    "--- output\n",
    "\n",
    "samosa = 300\n",
    "kachori = 100\n",
    "fafda = 100\n",
    "jalebi = 200\n",
    "Billing System (Basic)\n",
    "-- User input section\n",
    "Enter Product List Size : 4\n",
    "Enter Product 1 -\n",
    "Samosa\n",
    "Enter Product 2 -\n",
    "Kachori\n",
    "Enter Product 3 -\n",
    "Fafda\n",
    "Enter Product 4 -\n",
    "Jalebi\n",
    "\n",
    "Enter Samosa Price :\n",
    "300/-\n",
    "Enter Kachori Price :\n",
    "100/-\n",
    "Enter Fafda Price :\n",
    "100/-\n",
    "Enter Jalebi Price :\n",
    "200/-\n",
    "\n",
    "Do You Want to add GST [Y/N]\n",
    "[note : if user select `N` Print bill without GST]\n",
    "[Note User select yes `Y`]\n",
    "Enter GST % = 18\n",
    "-------Out put -------\n",
    "\n",
    "1. Samosa = 300/-\n",
    "2. Kachori = 100/-\n",
    "3. Fafda = 100/-\n",
    "4. Jalebi = 200/-\n",
    "-------------------\n",
    "Total = 700\n",
    "GST = 18%\n",
    "-------------------\n",
    "Final Total = 826/-\n",
    "-------------------"
   ]
  },
  {
   "cell_type": "code",
   "execution_count": 9,
   "id": "a90c55f9-fa50-41d9-bb18-00a9320daa0e",
   "metadata": {},
   "outputs": [
    {
     "name": "stdin",
     "output_type": "stream",
     "text": [
      "Enter the size of the list:  3\n",
      "Enter the food: samosa\n",
      "Enter the food: jalebi\n",
      "Enter the food: kachori\n",
      "Enter the price: 30\n",
      "Enter the price: 25\n",
      "Enter the price: 40\n"
     ]
    },
    {
     "name": "stdout",
     "output_type": "stream",
     "text": [
      "samosa = 30\n",
      "jalebi = 25\n",
      "kachori = 40\n"
     ]
    },
    {
     "name": "stdin",
     "output_type": "stream",
     "text": [
      "Do you want add GST[Y/N] Y\n"
     ]
    },
    {
     "name": "stdout",
     "output_type": "stream",
     "text": [
      "0 . samosa = 30 /-\n",
      "Total =  95\n",
      "GST = 18 %\n",
      "FINAL TOTAL : 112.1\n",
      "1 . jalebi = 25 /-\n",
      "Total =  95\n",
      "GST = 18 %\n",
      "FINAL TOTAL : 112.1\n",
      "2 . kachori = 40 /-\n",
      "Total =  95\n",
      "GST = 18 %\n",
      "FINAL TOTAL : 112.1\n"
     ]
    }
   ],
   "source": [
    "size = int(input(\"Enter the size of the list: \"))\n",
    "food = []\n",
    "price =[]\n",
    "\n",
    "for i in range(size):\n",
    "    f = str(input(\"Enter the food:\"))\n",
    "    food.append(f)\n",
    "\n",
    "for i in range(size):\n",
    "    p = int(input(\"Enter the price:\"))\n",
    "    price.append(p)\n",
    "\n",
    "for i in range(size):\n",
    "    print(food[i],'=', price[i])\n",
    "\n",
    "GST = input('Do you want add GST[Y/N]')\n",
    "if GST =='Y':\n",
    "    for i in range(size):\n",
    "        print(i,'.',food[i],'=',price[i],'/-')\n",
    "        total = sum(price)\n",
    "        print('Total = ',total)\n",
    "        print('GST =',18,'%')\n",
    "        final=(total + (total/100)*18)\n",
    "        print(\"FINAL TOTAL :\",final)\n",
    "\n",
    "elif GST == 'N':\n",
    "    for i in range (size):\n",
    "        print(i,'.',food[i],'=',price[i],'/-')\n",
    "        total = sum(price)\n",
    "        print('Total = ',total)\n",
    "        print(\"FINAL TOTAL \",total)\n",
    "\n",
    "else:\n",
    "    ()\n",
    "        \n",
    "    "
   ]
  },
  {
   "cell_type": "code",
   "execution_count": null,
   "id": "62945f13-023a-4918-ac84-f38bea89603c",
   "metadata": {},
   "outputs": [],
   "source": []
  }
 ],
 "metadata": {
  "kernelspec": {
   "display_name": "Python 3 (ipykernel)",
   "language": "python",
   "name": "python3"
  },
  "language_info": {
   "codemirror_mode": {
    "name": "ipython",
    "version": 3
   },
   "file_extension": ".py",
   "mimetype": "text/x-python",
   "name": "python",
   "nbconvert_exporter": "python",
   "pygments_lexer": "ipython3",
   "version": "3.12.7"
  }
 },
 "nbformat": 4,
 "nbformat_minor": 5
}
